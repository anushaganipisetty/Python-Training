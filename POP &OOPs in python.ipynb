{
  "metadata": {
    "kernelspec": {
      "name": "python",
      "display_name": "Python (Pyodide)",
      "language": "python"
    },
    "language_info": {
      "codemirror_mode": {
        "name": "python",
        "version": 3
      },
      "file_extension": ".py",
      "mimetype": "text/x-python",
      "name": "python",
      "nbconvert_exporter": "python",
      "pygments_lexer": "ipython3",
      "version": "3.8"
    }
  },
  "nbformat_minor": 4,
  "nbformat": 4,
  "cells": [
    {
      "cell_type": "code",
      "source": "'''\nPOP(Procedural Oriented programming)\nPrograms are divided into functions\nTop Down Approach\nNo access specifiers\nNoData Security\nNo Overloading Concepts\nExample: c, vB, Fortran, Pascal\n        main function\nFunction1   function2 function3\nlocaldata    localdata  localdata\n...\nOOP(Obeject oriented Programming)\nPrograms are divided into objects\nBottom up approach\nprovide accesss specifiers(public, protected)\ndata security\nfunction overloading\noperator overloading\nmethod overloading\nExample: C++, Java, Python\nData is converted into single unit is called object\nReusecode by inheritance\n'''",
      "metadata": {
        "trusted": true
      },
      "outputs": [
        {
          "execution_count": 1,
          "output_type": "execute_result",
          "data": {
            "text/plain": "'\\nPOP(Procedural Oriented programming)\\nPrograms are divided into functions\\nTop Down Approach\\nNo access specifiers\\nNoData Security\\nNo Overloading Concepts\\nExample: c, vb, fortran, pascal\\n...\\nOOP(Obeject oriented Programming)\\nPrograms are divided into objects\\nBottom up approach\\nprovide accesss \\ndata security\\nfunction overloading\\noperator overloading\\nmethod overloading\\nExample: C++, Java, Python\\n'"
          },
          "metadata": {}
        }
      ],
      "execution_count": 1
    },
    {
      "cell_type": "code",
      "source": "'''\nCLASS (OOPS Concept)\nclass is nothing but a Template or Blueprint of an object\nBike(class)\nr15(object)  RX100(object)  Jawa(object) (object)\nsyntax: class class_name(): ------------class defination\n                #class body\n'''",
      "metadata": {
        "trusted": true
      },
      "outputs": [
        {
          "execution_count": 4,
          "output_type": "execute_result",
          "data": {
            "text/plain": "'\\nCLASS (OOPS Concept)\\nclass is nothing but a Template or Blueprint of an object\\nBike(class)\\nr15(object)  RX100(object)  Jawa(object) (object)\\nsyntax: class class_name(): ------------class defination\\n                #class body\\n'"
          },
          "metadata": {}
        }
      ],
      "execution_count": 4
    },
    {
      "cell_type": "code",
      "source": "'''\nOBJECT\nobject menas physical entity\nfor single object we can create multiple entities\nobjcet having data + function\nwe can create any no of objects for class\nmemeory is allocated when object is created\n\nsyntax: \nobject name =class name()\n\n--> using object we can access methods and variables\n\nclass a():\n  #class body\n\nex:\nb = a() # object creation\nhere b is object\n\nwe can create any no of objects for a single object\n'''\n",
      "metadata": {
        "trusted": true
      },
      "outputs": [
        {
          "execution_count": 5,
          "output_type": "execute_result",
          "data": {
            "text/plain": "'\\nOBJECT\\nobject menas physical entity\\nfor single object we can create multiple entities\\nobjcet having data + function\\nwe can create any no of objects for class\\nmemeory is allocated when object is created\\n\\nsyntax: \\nobject name =class name()\\n\\n--> using object we can access methods and variables\\n\\nclass a():\\n  #class body\\n\\nex:\\nb = a() # object creation\\nhere b is object\\n\\nwe can create any no of objects for a single object\\n'"
          },
          "metadata": {}
        }
      ],
      "execution_count": 5
    },
    {
      "cell_type": "code",
      "source": "'''\nblueprint of a object\n'''\n\n",
      "metadata": {
        "trusted": true
      },
      "outputs": [],
      "execution_count": null
    },
    {
      "cell_type": "code",
      "source": "class pythonlife():\n    a=3 # class body\n    print(a) # print ",
      "metadata": {
        "trusted": true
      },
      "outputs": [
        {
          "name": "stdout",
          "text": "3\n",
          "output_type": "stream"
        }
      ],
      "execution_count": 6
    },
    {
      "cell_type": "code",
      "source": "class pythonlife(): # class\n    a=2 #class body\n    def output(self): # method\n        print(self.a) # print # object . method access\nb=pythonlife() # object\nv=pythonlife() # creating multiple object\nprint(b.a) # object access by variable\nb.output()\nv.output()",
      "metadata": {
        "trusted": true
      },
      "outputs": [
        {
          "name": "stdout",
          "text": "2\n2\n2\n",
          "output_type": "stream"
        }
      ],
      "execution_count": 15
    },
    {
      "cell_type": "code",
      "source": "'''\nInheritance\nparent properties comes to child\nproperites may be methods or varaible or \n\nwe have single inheritance, multiple inheritance, multilevel inheritance\none parent --> one child is called single inheritance\nparent1---> parent2----> child--------------------> is called multilevel inheritance\ntwo or more parents  for a single child  is called multiple inheritance\none parent --> multiple child class is called Hierarchical inheritance\n'''\n\n",
      "metadata": {
        "trusted": true
      },
      "outputs": [],
      "execution_count": null
    },
    {
      "cell_type": "code",
      "source": "# single inheritance single parent and single child\nclass parent():\n    def output(self):\n        print(\"i am the parent\")\nclass child(parent):\n    def outputc(self):\n        print(\"i am the child\")\nc=child() \nc.outputc() # child method\nc.output() # parent method\n    \n",
      "metadata": {
        "trusted": true
      },
      "outputs": [
        {
          "name": "stdout",
          "text": "i am the child\ni am the parent\n",
          "output_type": "stream"
        }
      ],
      "execution_count": 24
    },
    {
      "cell_type": "code",
      "source": "# Multilevel inheritance single parent and mutliple  child\nclass Grandfather():\n    def outputgf(self):\n        print(\"i am the grandfather\")\nclass parent(Grandfather):\n    def output(self):\n        print(\"i am the parent\")\nclass child(parent):\n    def outputc(self):\n        print(\"i am the child\")\nc=child() \nc.outputc() # child method\nc.output() # parent method\nc.outputgf() # grandfather method",
      "metadata": {
        "trusted": true
      },
      "outputs": [
        {
          "name": "stdout",
          "text": "i am the child\ni am the parent\ni am the grandfather\n",
          "output_type": "stream"
        }
      ],
      "execution_count": 31
    },
    {
      "cell_type": "code",
      "source": "# multiple inheritance --- multiple paretns single child\nclass father():\n    def outputgf(self):\n        print(\"i am the grandfather\")\nclass Mother():\n    def output(self):\n        print(\"i am the parent\")\nclass child(father, Mother):\n    def outputc(self):\n        print(\" i am the child\")\nc=child()\nc.outputc() # child method\nc.output() # parent method\nc.outputgf()",
      "metadata": {
        "trusted": true
      },
      "outputs": [
        {
          "name": "stdout",
          "text": " i am the child\ni am the parent\ni am the grandfather\n",
          "output_type": "stream"
        }
      ],
      "execution_count": 39
    },
    {
      "cell_type": "code",
      "source": "# Hierarchy Inheritance  single parent multiple childrens \nclass father():\n    def outputgf(self):\n        print(\"i am the father\")\nclass child1(father):\n    def output(self):\n        print(\"i am the child1\")\nclass child2(father):\n    def outputc(self):\n        print(\" iam the child2\")\nc= child1()\nc2=child2()\nc.output()\nc.outputgf()\nc2.outputc()\nc2.outputgf()",
      "metadata": {
        "trusted": true
      },
      "outputs": [
        {
          "name": "stdout",
          "text": "i am the child1\ni am the father\n ia m the child2\ni am the father\n",
          "output_type": "stream"
        }
      ],
      "execution_count": 42
    },
    {
      "cell_type": "code",
      "source": "\n# pillars of OOPS\n'''Encapsulation: \nWrapping of varaibles and methods into a single unit\nencapsulation will be done by using acess specifiers: public, private, protected\n\nPolymorphism\npoly- many\nmorph -forms\nwomen - friend, sister, gramdmother, motherm wifem doughter \none method acts as different forms\n\nex: add(a,b)\nreturn a+b\nadd(1,2)\nadd('a','b')\nadd([1,2],[2,3])\n\nData Abstraction:\nHiding of information\n'''\n",
      "metadata": {
        "trusted": true
      },
      "outputs": [
        {
          "execution_count": 46,
          "output_type": "execute_result",
          "data": {
            "text/plain": "\"Encapsulation: \\nWrapping of varaibles and methods into a single unit\\nencapsulation will be done by using acess specifiers: public, private, protected\\n\\nPolymorphism\\npoly- many\\nmorph -forms\\nwomen - friend, sister, gramdmother, motherm wifem doughter \\none method acts as different forms\\n\\nex: add(a,b)\\nreturn a+b\\nadd(1,2)\\nadd('a','b')\\nadd([1,2],[2,3])\\n\\nData Abstraction:\\nHiding of information\\n\""
          },
          "metadata": {}
        }
      ],
      "execution_count": 46
    },
    {
      "cell_type": "code",
      "source": "'''\nWrapping of variables methods in a single unit is called Encapsulation\npublic\nprivate __(double underscore)\nprotected _(single underscore)\n'''\nclass demo():\n    __a=2 # private\n    _b=4 # protected\n    print(__a)\n    print(_b)",
      "metadata": {
        "trusted": true
      },
      "outputs": [
        {
          "name": "stdout",
          "text": "2\n4\n",
          "output_type": "stream"
        }
      ],
      "execution_count": 49
    },
    {
      "cell_type": "code",
      "source": "# poly morphism\nclass demo():\n    def __init__(self, a,b):# if we define with int we can use it anywhere in class\n        self.__a=2 # private\n        self._b=4 # protected\nclass demo2(demo):\n    def output(self):\n        print(self._b)\nd=demo2(3,4)\nd.output()",
      "metadata": {
        "trusted": true
      },
      "outputs": [
        {
          "name": "stdout",
          "text": "4\n",
          "output_type": "stream"
        }
      ],
      "execution_count": 56
    },
    {
      "cell_type": "code",
      "source": "# data abstraction\ndef add(a,b):\n    print(a+b)\nadd(1,2)\nadd('a','b')\nadd([34,4], [3,4])\nadd((3,4),(4,6))",
      "metadata": {
        "trusted": true
      },
      "outputs": [
        {
          "name": "stdout",
          "text": "3\nab\n[34, 4, 3, 4]\n(3, 4, 4, 6)\n",
          "output_type": "stream"
        }
      ],
      "execution_count": 60
    },
    {
      "cell_type": "code",
      "source": "'''\nWhat is web scraping?\nweb scraping is a computer software technique of extracting information from websites. This technique mostly focusses on the transformation of unstructured data(HTML fromat) on the web into structured data( database or spreadsheet).\nLibraries required for web scraping\nBeautifulSoup(librarie): It is an incredible tool for pulling out information from a webpage. you can use it to extract tables, list, paragraph and you can also put filters to extract information from web pages.\n\nError messages: \n200 suceess/ok\n\nRedirection:\n301 permanent redirect\n302 temporary redirect\n304 Not modifies\n\nServer Error:\n\n501 not implemented\n502 Bad gateway\n503 service unavialble\n504 Gateway Timeout\nClient Error:\n401 Unauthorized error\n403 Forbidden\n404 Not Found\n405 Method Not Allowed\n'''",
      "metadata": {
        "trusted": true
      },
      "outputs": [],
      "execution_count": null
    },
    {
      "cell_type": "code",
      "source": "'''\nWhat is PIP?\nPIP is a package manager for python packages.\nFor installation:\n                        pip install packages /library/framework\n                        FOr Uninstallation:\n                        pip uninstall apckages/library/framework\nin cmd propmt for install packages:----\npip install requests\npip install pandas\npip install bs4\npip list : to check installed packages we use pip list\n\n'''          ",
      "metadata": {
        "trusted": true
      },
      "outputs": [],
      "execution_count": null
    },
    {
      "cell_type": "code",
      "source": "",
      "metadata": {
        "trusted": true
      },
      "outputs": [],
      "execution_count": null
    }
  ]
}