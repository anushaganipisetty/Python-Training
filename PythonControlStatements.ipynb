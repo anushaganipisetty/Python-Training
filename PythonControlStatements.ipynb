{
  "metadata": {
    "kernelspec": {
      "name": "python",
      "display_name": "Python (Pyodide)",
      "language": "python"
    },
    "language_info": {
      "codemirror_mode": {
        "name": "python",
        "version": 3
      },
      "file_extension": ".py",
      "mimetype": "text/x-python",
      "name": "python",
      "nbconvert_exporter": "python",
      "pygments_lexer": "ipython3",
      "version": "3.8"
    }
  },
  "nbformat_minor": 4,
  "nbformat": 4,
  "cells": [
    {
      "cell_type": "code",
      "source": "'''\nControl statements\nConditional statements: IF , Else, elif, Nested if\nLoopinf statements: For, While, Nested loops\nJumping Statements: Pass, Continuous, Break\n\n'''\n",
      "metadata": {
        "trusted": true
      },
      "outputs": [
        {
          "execution_count": 1,
          "output_type": "execute_result",
          "data": {
            "text/plain": "'\\nControl statements\\nConditional statements: IF , Else, elif, Nested if\\nLoopinf statements: For, While, Nested loops\\nJumping Statements: Pass, Continuous, Break\\n\\n'"
          },
          "metadata": {}
        }
      ],
      "execution_count": 1
    },
    {
      "cell_type": "code",
      "source": "'''\nConditional stetements or Deciosion Making statements\nif condition is true then only statements executed withing lf\nEx: \nif cond:\n    statement\nelse: \n    statement\n'''",
      "metadata": {
        "trusted": true
      },
      "outputs": [
        {
          "execution_count": 2,
          "output_type": "execute_result",
          "data": {
            "text/plain": "'\\nConditional stetements or Deciosion Making statements\\nif condition is true then only statements executed withing lf\\nEx: \\nif cond:\\n    statement\\nelse: \\n    statement\\n'"
          },
          "metadata": {}
        }
      ],
      "execution_count": 2
    },
    {
      "cell_type": "code",
      "source": "#if, else, elif\nage =19\nif age > 18:\n    print(\" you can vote\")\nelif age == 18:\n    print(\" you can vote\")\nelse: \n    print(\"Wait\")",
      "metadata": {
        "trusted": true
      },
      "outputs": [
        {
          "name": "stdout",
          "text": " you can vote\n",
          "output_type": "stream"
        }
      ],
      "execution_count": 7
    },
    {
      "cell_type": "code",
      "source": "#nested if\nif True:\n    print(\"Hi\")\n    if True:\n        print(\"Bye\")",
      "metadata": {
        "trusted": true
      },
      "outputs": [
        {
          "name": "stdout",
          "text": "Hi\nBye\n",
          "output_type": "stream"
        }
      ],
      "execution_count": 8
    },
    {
      "cell_type": "code",
      "source": "# using logical operators checking two conditions at a time\nage =19\nif age>18 and age <18:\n    print(\"you can vote\")\nelif age == 30:\n        print(\" you can vote\")\nelse: \n    print(\"Wait\")",
      "metadata": {
        "trusted": true
      },
      "outputs": [
        {
          "name": "stdout",
          "text": "Wait\n",
          "output_type": "stream"
        }
      ],
      "execution_count": 10
    },
    {
      "cell_type": "code",
      "source": "'''\ndecision making statements\nif \nelif\nsyntax:\nif condition:\n    statements\nelse:\n    statements\n'''",
      "metadata": {
        "trusted": true
      },
      "outputs": [
        {
          "execution_count": 14,
          "output_type": "execute_result",
          "data": {
            "text/plain": "'\\ndecision making statements\\nif \\nelif\\nsyntax:\\nif condition:\\n    statements\\nelse:\\n    statements\\n'"
          },
          "metadata": {}
        }
      ],
      "execution_count": 14
    },
    {
      "cell_type": "code",
      "source": "\nif False:\n    print(\"nenu if\")\nelse: \n    print(\"nenu else\")",
      "metadata": {
        "trusted": true
      },
      "outputs": [
        {
          "name": "stdout",
          "text": "nenu else\n",
          "output_type": "stream"
        }
      ],
      "execution_count": 13
    },
    {
      "cell_type": "code",
      "source": "if True:\n    print(\"outer if\")\n    if True:\n        print(\"inner if\")\n    else:\n        print(\"inner if\")\nelse:\n    print(\"outer else\")\n        ",
      "metadata": {
        "trusted": true
      },
      "outputs": [
        {
          "name": "stdout",
          "text": "outer if\ninner if\n",
          "output_type": "stream"
        }
      ],
      "execution_count": 17
    },
    {
      "cell_type": "code",
      "source": "age = 18\nif age>18:\n    print(\"you can vote\")\nelif age ==18:\n    print(\"you can vote buddy\")\nelse:\n    print(\"wait\")",
      "metadata": {
        "trusted": true
      },
      "outputs": [
        {
          "name": "stdout",
          "text": "you can vote buddy\n",
          "output_type": "stream"
        }
      ],
      "execution_count": 19
    },
    {
      "cell_type": "code",
      "source": "age =18\nif age>18 or age ==18:\n    print(\"you can vote\")\nelse: \n    print(\"wait\")",
      "metadata": {
        "trusted": true
      },
      "outputs": [
        {
          "name": "stdout",
          "text": "you can vote\n",
          "output_type": "stream"
        }
      ],
      "execution_count": 20
    },
    {
      "cell_type": "code",
      "source": "#Looping Statements or iterative statements or continue looping statements\n'''\nfor \nwhile\n'''",
      "metadata": {
        "trusted": true
      },
      "outputs": [
        {
          "execution_count": 21,
          "output_type": "execute_result",
          "data": {
            "text/plain": "'\\nfor \\nwhile\\n'"
          },
          "metadata": {}
        }
      ],
      "execution_count": 21
    },
    {
      "cell_type": "code",
      "source": "a = [1, 2, 3, 4, 5]\nfor i in a:\n    print(i)\n",
      "metadata": {
        "trusted": true
      },
      "outputs": [
        {
          "name": "stdout",
          "text": "1\n2\n3\n4\n5\n",
          "output_type": "stream"
        }
      ],
      "execution_count": 23
    },
    {
      "cell_type": "code",
      "source": "'''\na = [4,4,4,4,4]\nfor i in a:\n    print(i)\na = 'pythonlife'\nfor i in a:\n    print(i)\nwhile True:\n    print(\"Hihihi\")\nkiran = 9\nwhile kiran<15:\n    print(\"Hihi\",kiran)\n    kiran+=1\nfor i in range(0,10):\n    for j in range(0,100):\n        print(i+j)\n'''",
      "metadata": {
        "trusted": true
      },
      "outputs": [],
      "execution_count": null
    },
    {
      "cell_type": "code",
      "source": "''' \nJumping Statements\nPass(ignore)\ncontinue(skip)\nBreak(loop terminate)\n\nIf True: \n    continue\nIf False:\n    Break\n'''\n",
      "metadata": {
        "trusted": true
      },
      "outputs": [
        {
          "execution_count": 3,
          "output_type": "execute_result",
          "data": {
            "text/plain": "' \\nJumping Statements\\nPass\\nBreak\\n\\nIf True: \\n    pass\\nIf False:\\n    Break\\n'"
          },
          "metadata": {}
        }
      ],
      "execution_count": 3
    },
    {
      "cell_type": "code",
      "source": "a = 'pythonlife'\nfor i in a:\n  print(i)",
      "metadata": {
        "trusted": true
      },
      "outputs": [
        {
          "name": "stdout",
          "text": "p\ny\nt\nh\no\nn\nl\ni\nf\ne\n",
          "output_type": "stream"
        }
      ],
      "execution_count": 12
    },
    {
      "cell_type": "code",
      "source": "a = 'pythonlife'\nfor i in a:\n    if i =='p':\n        print(i)",
      "metadata": {
        "trusted": true
      },
      "outputs": [
        {
          "name": "stdout",
          "text": "p\n",
          "output_type": "stream"
        }
      ],
      "execution_count": 24
    },
    {
      "cell_type": "code",
      "source": "for i in 'pythonlife':\n    if i == 'l':\n        continue\n    print(i)",
      "metadata": {
        "trusted": true
      },
      "outputs": [
        {
          "name": "stdout",
          "text": "p\ny\nt\nh\no\nn\ni\nf\ne\n",
          "output_type": "stream"
        }
      ],
      "execution_count": 26
    },
    {
      "cell_type": "code",
      "source": "'''\npass-ignore\nbreak --terminate\ncontinue --skip(current iteration)\n'''",
      "metadata": {
        "trusted": true
      },
      "outputs": [
        {
          "execution_count": 27,
          "output_type": "execute_result",
          "data": {
            "text/plain": "'\\npass-ignore\\nbreak --terminate\\ncontinue --skip(current iteration)\\n'"
          },
          "metadata": {}
        }
      ],
      "execution_count": 28
    },
    {
      "cell_type": "code",
      "source": "",
      "metadata": {
        "trusted": true
      },
      "outputs": [],
      "execution_count": null
    }
  ]
}