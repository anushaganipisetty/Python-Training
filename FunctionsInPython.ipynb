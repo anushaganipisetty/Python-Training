{
  "metadata": {
    "kernelspec": {
      "name": "python",
      "display_name": "Python (Pyodide)",
      "language": "python"
    },
    "language_info": {
      "codemirror_mode": {
        "name": "python",
        "version": 3
      },
      "file_extension": ".py",
      "mimetype": "text/x-python",
      "name": "python",
      "nbconvert_exporter": "python",
      "pygments_lexer": "ipython3",
      "version": "3.8"
    }
  },
  "nbformat_minor": 4,
  "nbformat": 4,
  "cells": [
    {
      "cell_type": "code",
      "source": "'''\nBlock of code\nRun when its called\ndef functionname() ----function defination \n    function body\nfunction.name()  ----function call\n\nsyntax:\n\ndef func():\n    print(\"this is function\")\nfunc()\n'''",
      "metadata": {
        "trusted": true
      },
      "outputs": [
        {
          "execution_count": 6,
          "output_type": "execute_result",
          "data": {
            "text/plain": "'\\nBlock of code\\nRun when its called\\ndef functionname() ----function defination \\n    function body\\nfunction.name()  ----function call\\n\\nsyntax:\\n\\ndef func():\\n    print(\"this is function\")\\nfunc()\\n'"
          },
          "metadata": {}
        }
      ],
      "execution_count": 6
    },
    {
      "cell_type": "code",
      "source": "def add(a,b):# a,b called parameters\n    return a+b\nprint(add(1,2)) # 1,2 will be arguments",
      "metadata": {
        "trusted": true
      },
      "outputs": [
        {
          "name": "stdout",
          "text": "3\n",
          "output_type": "stream"
        }
      ],
      "execution_count": 3
    },
    {
      "cell_type": "code",
      "source": "# function with in a function is called nested function\ndef outer():\n    print(\"outer\")\n    def inner():\n        print(\"inner\")\n    inner()\nouter()",
      "metadata": {
        "trusted": true
      },
      "outputs": [
        {
          "name": "stdout",
          "text": "outer\ninner\n",
          "output_type": "stream"
        }
      ],
      "execution_count": 5
    },
    {
      "cell_type": "code",
      "source": "def func(): # function defination\n    print(\"this is function\") # function body\nfunc() # function call",
      "metadata": {
        "trusted": true
      },
      "outputs": [
        {
          "name": "stdout",
          "text": "this is function\n",
          "output_type": "stream"
        }
      ],
      "execution_count": 7
    },
    {
      "cell_type": "code",
      "source": "def func(a,b,c): # function defination\n    print(\"this is function\", a,b,c) # function body\nfunc(1,2,3) # function call",
      "metadata": {
        "trusted": true
      },
      "outputs": [
        {
          "name": "stdout",
          "text": "this is function 1 2 3\n",
          "output_type": "stream"
        }
      ],
      "execution_count": 9
    },
    {
      "cell_type": "code",
      "source": "def func(*a): # orbitary orguments\n   print(\"this function\", a)\nfunc(1,2,3)",
      "metadata": {
        "trusted": true
      },
      "outputs": [
        {
          "name": "stdout",
          "text": "this function (1, 2, 3)\n",
          "output_type": "stream"
        }
      ],
      "execution_count": 20
    },
    {
      "cell_type": "code",
      "source": "def func(**a): # tuple star\n    print(\"this is function\",a)# function body\nfunc(a=1, b=2)",
      "metadata": {
        "trusted": true
      },
      "outputs": [
        {
          "name": "stdout",
          "text": "this is function {'a': 1, 'b': 2}\n",
          "output_type": "stream"
        }
      ],
      "execution_count": 16
    },
    {
      "cell_type": "code",
      "source": "# nested function: function in a function\ndef outer(): # outerfunction\n    print(\"outer function\")\n    def inner(): # inner function\n        print(\"inner function\")\n    inner()\nouter()",
      "metadata": {
        "trusted": true
      },
      "outputs": [
        {
          "name": "stdout",
          "text": "outer function\ninner function\n",
          "output_type": "stream"
        }
      ],
      "execution_count": 23
    },
    {
      "cell_type": "code",
      "source": "def add(a,b):\n    print(a+b)\ndef sub(a,b):\n    print(a-b)",
      "metadata": {
        "trusted": true
      },
      "outputs": [],
      "execution_count": 24
    },
    {
      "cell_type": "code",
      "source": "# using import keyword\ndef add(a,b):\n    print(a+b)\n    add(3,3)\ndef sub(a,b):\n    print(a-b)\n    sub(3,3)",
      "metadata": {
        "trusted": true
      },
      "outputs": [],
      "execution_count": 28
    },
    {
      "cell_type": "code",
      "source": "'''\nFile handling Functions in python\nReading, writings, deleting, creating of a files is called file handling\nread : only reading the file \nwrite(truncate): only write the data\nappend : previous data will be appended\nreadwrite : read and write \nwriteread(truncate)\n'''",
      "metadata": {
        "trusted": true
      },
      "outputs": [
        {
          "execution_count": 27,
          "output_type": "execute_result",
          "data": {
            "text/plain": "'\\nFile handling Functions in python\\nReading, writings, deleting, creating of a files is called file handling\\nread : only reading the file \\nwrite(truncate): only write the data\\nappend : previous data will be appended\\nreadwrite : read and write \\nwriteread(truncate)\\n'"
          },
          "metadata": {}
        }
      ],
      "execution_count": 29
    },
    {
      "cell_type": "code",
      "source": "#hi welcome to python\ns = open('demo1.txt', mode ='r')\nprint(s.read())",
      "metadata": {
        "trusted": true
      },
      "outputs": [
        {
          "name": "stdout",
          "text": "hi welcome to python\n",
          "output_type": "stream"
        }
      ],
      "execution_count": 8
    },
    {
      "cell_type": "code",
      "source": "s = open('demo1.txt', mode ='w')\nprint(s.write(\"bye bye\"))\ns.close()",
      "metadata": {
        "trusted": true
      },
      "outputs": [
        {
          "name": "stdout",
          "text": "7\n",
          "output_type": "stream"
        }
      ],
      "execution_count": 10
    },
    {
      "cell_type": "code",
      "source": "s = open('demo1.txt', mode ='a')\nprint(s.write(\"bye bye write\"))\ns.close()",
      "metadata": {
        "trusted": true
      },
      "outputs": [
        {
          "name": "stdout",
          "text": "13\n",
          "output_type": "stream"
        }
      ],
      "execution_count": 11
    },
    {
      "cell_type": "code",
      "source": "s = open('demo1.txt', mode ='r+')\nprint(s.read())\ns.write(\"r+ mode\")\ns.close()",
      "metadata": {
        "trusted": true
      },
      "outputs": [
        {
          "name": "stdout",
          "text": "bye byeome to pythonbye bye writer+mode\n",
          "output_type": "stream"
        }
      ],
      "execution_count": 13
    },
    {
      "cell_type": "code",
      "source": "s = open('demo1.txt', mode ='w+')\nprint(s.write(\"w+mode\"))\ns.seek(0)\nprint(s.read())\ns.close()",
      "metadata": {
        "trusted": true
      },
      "outputs": [
        {
          "name": "stdout",
          "text": "6\nw+modeeome to pythonbye bye writer+moder+ mode\n",
          "output_type": "stream"
        }
      ],
      "execution_count": 17
    },
    {
      "cell_type": "code",
      "source": "'''\nError Handling\nInterupting normal execution of a code is called error or exception\nwe will handle by error handling\n\ntry:\n    risky code\nExcept:\n    print(\"Error\")\nElse: \n    print(\"No Error\")\nFinally:\n    print(\"always\")\n'''",
      "metadata": {
        "trusted": true
      },
      "outputs": [
        {
          "execution_count": 18,
          "output_type": "execute_result",
          "data": {
            "text/plain": "'\\nError Handling\\nInterupting normal execution of a code is called error or exception\\nwe will handle by error handling\\n\\ntry:\\n    risky code\\nExcept:\\n    print(\"Error\")\\nElse: \\n    print(\"No Error\")\\nFinally:\\n    print(\"always\")\\n'"
          },
          "metadata": {}
        }
      ],
      "execution_count": 18
    },
    {
      "cell_type": "code",
      "source": "try:\n    print('b') # risky code\nexcept:\n    print(\"error\")\nelse:\n    print(\"no error\")\nfinally:\n    print(\"always\")",
      "metadata": {
        "trusted": true
      },
      "outputs": [
        {
          "name": "stdout",
          "text": "b\nno error\nalways\n",
          "output_type": "stream"
        }
      ],
      "execution_count": 20
    },
    {
      "cell_type": "code",
      "source": "try:\n    print('a' +33)\nexcept TypeError:\n    print(\"type error\")\nexcept valueError:\n    print(\"value error\")",
      "metadata": {
        "trusted": true
      },
      "outputs": [
        {
          "name": "stdout",
          "text": "type error\n",
          "output_type": "stream"
        }
      ],
      "execution_count": 21
    },
    {
      "cell_type": "code",
      "source": "print('a' +33) # we ccont concatenate number with character",
      "metadata": {
        "trusted": true
      },
      "outputs": [
        {
          "ename": "<class 'TypeError'>",
          "evalue": "can only concatenate str (not \"int\") to str",
          "traceback": [
            "\u001b[0;31m---------------------------------------------------------------------------\u001b[0m",
            "\u001b[0;31mTypeError\u001b[0m                                 Traceback (most recent call last)",
            "Cell \u001b[0;32mIn[22], line 1\u001b[0m\n\u001b[0;32m----> 1\u001b[0m \u001b[38;5;28mprint\u001b[39m(\u001b[38;5;124;43m'\u001b[39;49m\u001b[38;5;124;43ma\u001b[39;49m\u001b[38;5;124;43m'\u001b[39;49m\u001b[43m \u001b[49m\u001b[38;5;241;43m+\u001b[39;49m\u001b[38;5;241;43m33\u001b[39;49m)\n",
            "\u001b[0;31mTypeError\u001b[0m: can only concatenate str (not \"int\") to str"
          ],
          "output_type": "error"
        }
      ],
      "execution_count": 22
    },
    {
      "cell_type": "code",
      "source": "",
      "metadata": {
        "trusted": true
      },
      "outputs": [],
      "execution_count": null
    }
  ]
}