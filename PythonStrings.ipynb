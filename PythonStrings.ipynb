{
  "metadata": {
    "kernelspec": {
      "name": "python",
      "display_name": "Python (Pyodide)",
      "language": "python"
    },
    "language_info": {
      "codemirror_mode": {
        "name": "python",
        "version": 3
      },
      "file_extension": ".py",
      "mimetype": "text/x-python",
      "name": "python",
      "nbconvert_exporter": "python",
      "pygments_lexer": "ipython3",
      "version": "3.8"
    }
  },
  "nbformat_minor": 4,
  "nbformat": 4,
  "cells": [
    {
      "cell_type": "code",
      "source": "#Strings : collection of characters/ group of characters",
      "metadata": {
        "trusted": true
      },
      "outputs": [],
      "execution_count": 2
    },
    {
      "cell_type": "code",
      "source": "'''\nTypes of declaring strings\nsingle quotes('')\ndouble quotes(\"\")\ntriple quotes(''' ''')\n'''",
      "metadata": {
        "trusted": true
      },
      "outputs": [
        {
          "execution_count": 3,
          "output_type": "execute_result",
          "data": {
            "text/plain": "'\\nTypes of declaring strings\\nsingle quotes(\\'\\')\\ndouble quotes(\"\")\\ntriple quotes()\\n'"
          },
          "metadata": {}
        }
      ],
      "execution_count": 3
    },
    {
      "cell_type": "code",
      "source": "'''\nString Methods\nLower() : convert into lowercase strings\nUpper() : converts into uppercase\nEndswith() : checks string endswith\nStartswith() : checks string starts with\nReplace() : to replace string with old or new\nSplit(): string to convert to list \nCount() : to count words or single character\nRstrip(): rightside triming space\nLstrip() : left triming space\nStrip() : triming space\nremoveprefix() : removing prefix\nremovesurfix(): removing sufix\nIndex(): if we dont have index then it gives error\nfind(): it gives 1\n'''",
      "metadata": {
        "trusted": true
      },
      "outputs": [
        {
          "execution_count": 4,
          "output_type": "execute_result",
          "data": {
            "text/plain": "'\\nString Methods\\nlower()\\nupper()\\nendswith()\\nstartswith()\\nreplace()\\ncount()\\nRstrip()\\nLstrip()\\nStrip()\\nremoveprefix()\\nremovesurfix()\\nIndex()\\nfind()\\n'"
          },
          "metadata": {}
        }
      ],
      "execution_count": 4
    },
    {
      "cell_type": "code",
      "source": "b = 'pythonlife'\na =\"pythonlife\"\nv = '''pythonlife''' # for multiple line strings we use triple quotes\nprint(type(b),type(a), type(v))",
      "metadata": {
        "trusted": true
      },
      "outputs": [
        {
          "name": "stdout",
          "text": "<class 'str'> <class 'str'> <class 'str'>\n",
          "output_type": "stream"
        }
      ],
      "execution_count": 9
    },
    {
      "cell_type": "code",
      "source": "pythonlife =\"please like and share\"\nprint(pythonlife.upper())\nprint(pythonlife.lower())\nTopic = \"python strings\"\nprint(Topic.endswith(\"rings\"))\nprint(Topic.startswith(\"py\"))",
      "metadata": {
        "trusted": true
      },
      "outputs": [
        {
          "name": "stdout",
          "text": "PLEASE LIKE AND SHARE\nplease like and share\nTrue\nTrue\n",
          "output_type": "stream"
        }
      ],
      "execution_count": 18
    },
    {
      "cell_type": "code",
      "source": "course = \"Python\"\nprint(course.replace(\"Python\",\"Python Programming Language\"))",
      "metadata": {
        "trusted": true
      },
      "outputs": [
        {
          "name": "stdout",
          "text": "Python Programming Language\n",
          "output_type": "stream"
        }
      ],
      "execution_count": 21
    },
    {
      "cell_type": "code",
      "source": "pythonlife =\"Python language\"\nprint(pythonlife.index(\"Python\"))\nprint(pythonlife.index(\"on\"))",
      "metadata": {
        "trusted": true
      },
      "outputs": [
        {
          "name": "stdout",
          "text": "0\n4\n",
          "output_type": "stream"
        }
      ],
      "execution_count": 25
    },
    {
      "cell_type": "code",
      "source": "pythonlife =\"Python language\"\nprint(pythonlife.find(\"Python\"))\n",
      "metadata": {
        "trusted": true
      },
      "outputs": [
        {
          "name": "stdout",
          "text": "0\n",
          "output_type": "stream"
        }
      ],
      "execution_count": 23
    },
    {
      "cell_type": "code",
      "source": "pythonlife =\"Python language\"\nprint(pythonlife.find(\"language\"))\n",
      "metadata": {
        "trusted": true
      },
      "outputs": [
        {
          "name": "stdout",
          "text": "7\n",
          "output_type": "stream"
        }
      ],
      "execution_count": 24
    },
    {
      "cell_type": "code",
      "source": "pythonlife =\"python language\"\nprint(pythonlife.count('g'))",
      "metadata": {
        "trusted": true
      },
      "outputs": [
        {
          "name": "stdout",
          "text": "2\n",
          "output_type": "stream"
        }
      ],
      "execution_count": 31
    },
    {
      "cell_type": "code",
      "source": "print(pythonlife.removeprefix(\"python\"))",
      "metadata": {
        "trusted": true
      },
      "outputs": [
        {
          "name": "stdout",
          "text": " language\n",
          "output_type": "stream"
        }
      ],
      "execution_count": 32
    },
    {
      "cell_type": "code",
      "source": "print(pythonlife.removeprefix(\"age\"))",
      "metadata": {
        "trusted": true
      },
      "outputs": [
        {
          "name": "stdout",
          "text": "python language\n",
          "output_type": "stream"
        }
      ],
      "execution_count": 33
    },
    {
      "cell_type": "code",
      "source": "print(pythonlife.removesuffix(\"age\"))",
      "metadata": {
        "trusted": true
      },
      "outputs": [
        {
          "name": "stdout",
          "text": "python langu\n",
          "output_type": "stream"
        }
      ],
      "execution_count": 34
    },
    {
      "cell_type": "code",
      "source": "pythonlife =\"pythonlanguage\"\nprint(pythonlife)",
      "metadata": {
        "trusted": true
      },
      "outputs": [
        {
          "name": "stdout",
          "text": "pythonlanguage\n",
          "output_type": "stream"
        }
      ],
      "execution_count": 37
    },
    {
      "cell_type": "code",
      "source": "print(len(pythonlife))",
      "metadata": {
        "trusted": true
      },
      "outputs": [
        {
          "name": "stdout",
          "text": "14\n",
          "output_type": "stream"
        }
      ],
      "execution_count": 38
    },
    {
      "cell_type": "code",
      "source": "pythonlife =\"     pythonlanguage        \"\nprint(pythonlife)\nprint(pythonlife.strip())\nprint(pythonlife.rstrip())\nprint(pythonlife.lstrip())",
      "metadata": {
        "trusted": true
      },
      "outputs": [
        {
          "name": "stdout",
          "text": "     pythonlanguage        \npythonlanguage\n     pythonlanguage\npythonlanguage        \n",
          "output_type": "stream"
        }
      ],
      "execution_count": 43
    },
    {
      "cell_type": "code",
      "source": "'''\nlist : used by square braces []\nmutable data type is nothing but changable\nstore different types of elements: int, strings, bollean...etc\nallow duplicates : inside [] it allows duplicate values\nallow indexing : starts with forword indexing o and negative indexing is starts with -1 nothing but elements postion in []\nslicing we can do using indexing\nslicing will be like  [start: stop : skip]\nmethods in lists: append, extend, remove, pop, count, index\n'''\n",
      "metadata": {
        "trusted": true
      },
      "outputs": [
        {
          "execution_count": 46,
          "output_type": "execute_result",
          "data": {
            "text/plain": "'\\nlist : used by square braces []\\nmutable data type is nothing but changable\\nstore different types of elements: int, strings, bollean...etc\\nallow duplicates : inside [] it allows duplicate values\\nallow indexing : starts with forword indexing o and negative indexing is starts with -1 nothing but elements postion in []\\nslicing we can do using indexing\\nslicing will be like  [start: stop : skip]\\nmethods in lists: append, extend, remove, pop, count, index\\n'"
          },
          "metadata": {}
        }
      ],
      "execution_count": 46
    },
    {
      "cell_type": "code",
      "source": "'''\nlist\n'''\nv = [1, 32, 323,1.4, 23, 'anuhsa', '1+2i',True]\nprint(v)\n",
      "metadata": {
        "trusted": true
      },
      "outputs": [
        {
          "name": "stdout",
          "text": "[1, 32, 323, 1.4, 23, 'anuhsa', '1+2i', True]\n",
          "output_type": "stream"
        }
      ],
      "execution_count": 48
    },
    {
      "cell_type": "code",
      "source": "print(v[-1])",
      "metadata": {
        "trusted": true
      },
      "outputs": [
        {
          "name": "stdout",
          "text": "True\n",
          "output_type": "stream"
        }
      ],
      "execution_count": 49
    },
    {
      "cell_type": "code",
      "source": "print(v[0:4:3]) # starts with 0 and count address 4th postion and skip by 2 postions",
      "metadata": {
        "trusted": true
      },
      "outputs": [
        {
          "name": "stdout",
          "text": "[1, 1.4]\n",
          "output_type": "stream"
        }
      ],
      "execution_count": 50
    },
    {
      "cell_type": "code",
      "source": "v = [1,23,45,56,2.9, '3+9j']\nprint(v)\nv.append('sri')\nprint(v)",
      "metadata": {
        "trusted": true
      },
      "outputs": [
        {
          "name": "stdout",
          "text": "[1, 23, 45, 56, 2.9, '3+9j']\n[1, 23, 45, 56, 2.9, '3+9j', 'sri']\n",
          "output_type": "stream"
        }
      ],
      "execution_count": 53
    },
    {
      "cell_type": "code",
      "source": "v.extend([True,False, 3.5])\nprint(v.count(1))",
      "metadata": {
        "trusted": true
      },
      "outputs": [
        {
          "name": "stdout",
          "text": "2\n",
          "output_type": "stream"
        }
      ],
      "execution_count": 54
    },
    {
      "cell_type": "code",
      "source": "v.remove(1)\nprint(v)\nv.insert(0,22)\nprint(v)",
      "metadata": {
        "trusted": true
      },
      "outputs": [
        {
          "name": "stdout",
          "text": "[56, 2.9, '3+9j', 'sri', True, False, 3.5]\n[22, 56, 2.9, '3+9j', 'sri', True, False, 3.5]\n",
          "output_type": "stream"
        }
      ],
      "execution_count": 65
    },
    {
      "cell_type": "code",
      "source": "v.pop(1) # using index it removes value in indes at 1",
      "metadata": {
        "trusted": true
      },
      "outputs": [
        {
          "execution_count": 56,
          "output_type": "execute_result",
          "data": {
            "text/plain": "45"
          },
          "metadata": {}
        }
      ],
      "execution_count": 56
    },
    {
      "cell_type": "code",
      "source": "print(v.index(2.9))",
      "metadata": {
        "trusted": true
      },
      "outputs": [
        {
          "name": "stdout",
          "text": "2\n",
          "output_type": "stream"
        }
      ],
      "execution_count": 57
    },
    {
      "cell_type": "code",
      "source": "for i in [1,24,1,4,1544, 5,'kiran']:\n    print(i)",
      "metadata": {
        "trusted": true
      },
      "outputs": [
        {
          "name": "stdout",
          "text": "1\n24\n1\n4\n1544\n5\nkiran\n",
          "output_type": "stream"
        }
      ],
      "execution_count": 61
    },
    {
      "cell_type": "code",
      "source": "'''\nTuple : indicated by ()\nallow different types of elements\nallow duplicates\nallow index and slicing\nImmutable: we cont modify data\nNo methods we can use builtin\nbuiltin methoods like max, min etc\na = (1,2,3,4, ' triangle', False)\nTuple operations\nConcatenation : we can add two tuples \nt1 = (1,2)\nt2 =(2,3)\nprint(t1+t2)\nfor i in t1:\nprint(i)\nIteration: \nMembership operations\nidentity operations\nrepetation\n'''\n",
      "metadata": {
        "trusted": true
      },
      "outputs": [
        {
          "execution_count": 67,
          "output_type": "execute_result",
          "data": {
            "text/plain": "\"\\nTuple : indicated by ()\\nallow different types of elements\\nallow duplicates\\nallow index and slicing\\nImmutable: we cont modify data\\nNo methods we can use builtin\\nbuiltin methoods like max, min etc\\na = (1,2,3,4, ' triangle', False)\\nTuple operations\\nConcatenation\\nIteration\\nMembership operations\\nidentity operations\\nrepetation\\n\""
          },
          "metadata": {}
        }
      ],
      "execution_count": 67
    },
    {
      "cell_type": "code",
      "source": "a = (1,2,3,4, ' triangle', False)\nprint(len(a))",
      "metadata": {
        "trusted": true
      },
      "outputs": [
        {
          "name": "stdout",
          "text": "6\n",
          "output_type": "stream"
        }
      ],
      "execution_count": 68
    },
    {
      "cell_type": "code",
      "source": "t1 = (1,2)\nt2 =(2,3)\nprint(t1+t2)\nfor i in t1:\n    print(i)",
      "metadata": {
        "trusted": true
      },
      "outputs": [
        {
          "name": "stdout",
          "text": "(1, 2, 2, 3)\n1\n2\n",
          "output_type": "stream"
        }
      ],
      "execution_count": 70
    },
    {
      "cell_type": "code",
      "source": "c = ()\nprint(type(c))",
      "metadata": {
        "trusted": true
      },
      "outputs": [
        {
          "name": "stdout",
          "text": "<class 'tuple'>\n",
          "output_type": "stream"
        }
      ],
      "execution_count": 71
    },
    {
      "cell_type": "code",
      "source": "c =(1,24,1,3,14,14,'kiran')\nprint(c[-1]) # indiexing",
      "metadata": {
        "trusted": true
      },
      "outputs": [
        {
          "name": "stdout",
          "text": "kiran\n",
          "output_type": "stream"
        }
      ],
      "execution_count": 72
    },
    {
      "cell_type": "code",
      "source": "print(c[0:4:2]) #slicing possible",
      "metadata": {
        "trusted": true
      },
      "outputs": [
        {
          "name": "stdout",
          "text": "(1, 1)\n",
          "output_type": "stream"
        }
      ],
      "execution_count": 73
    },
    {
      "cell_type": "code",
      "source": "c =(1,24,1,3,14,14)\nprint(min(c))\nprint(max(c))\nprint(sum(c))\nprint(len(c))",
      "metadata": {
        "trusted": true
      },
      "outputs": [
        {
          "name": "stdout",
          "text": "1\n24\n57\n6\n",
          "output_type": "stream"
        }
      ],
      "execution_count": 79
    },
    {
      "cell_type": "code",
      "source": "t1 =(1,2,3)\nt2 =(4,5,6)\nprint(t1+t2) # concatenation",
      "metadata": {
        "trusted": true
      },
      "outputs": [
        {
          "name": "stdout",
          "text": "(1, 2, 3, 4, 5, 6)\n",
          "output_type": "stream"
        }
      ],
      "execution_count": 80
    },
    {
      "cell_type": "code",
      "source": "c =(1,24,1,3,14,14)\nprint(c*11) # repetation\nprint(c*2)",
      "metadata": {
        "trusted": true
      },
      "outputs": [
        {
          "name": "stdout",
          "text": "(1, 24, 1, 3, 14, 14, 1, 24, 1, 3, 14, 14, 1, 24, 1, 3, 14, 14, 1, 24, 1, 3, 14, 14, 1, 24, 1, 3, 14, 14, 1, 24, 1, 3, 14, 14, 1, 24, 1, 3, 14, 14, 1, 24, 1, 3, 14, 14, 1, 24, 1, 3, 14, 14, 1, 24, 1, 3, 14, 14, 1, 24, 1, 3, 14, 14)\n(1, 24, 1, 3, 14, 14, 1, 24, 1, 3, 14, 14)\n",
          "output_type": "stream"
        }
      ],
      "execution_count": 83
    },
    {
      "cell_type": "code",
      "source": "c =(1,24,1,3,14,14)\nfor i in c: # iteration in tuple possible\n    print(i)\n    ",
      "metadata": {
        "trusted": true
      },
      "outputs": [
        {
          "name": "stdout",
          "text": "1\n24\n1\n3\n14\n14\n",
          "output_type": "stream"
        }
      ],
      "execution_count": 84
    },
    {
      "cell_type": "code",
      "source": "print(11 not in c) # membership operator",
      "metadata": {
        "trusted": true
      },
      "outputs": [
        {
          "name": "stdout",
          "text": "True\n",
          "output_type": "stream"
        }
      ],
      "execution_count": 85
    },
    {
      "cell_type": "code",
      "source": "t1 =(1,2,3)\nt2 = (4,5,6)\nprint(t1 is t2)",
      "metadata": {
        "trusted": true
      },
      "outputs": [
        {
          "name": "stdout",
          "text": "False\n",
          "output_type": "stream"
        }
      ],
      "execution_count": 86
    },
    {
      "cell_type": "code",
      "source": "print(t1 is not t2)",
      "metadata": {
        "trusted": true
      },
      "outputs": [
        {
          "name": "stdout",
          "text": "True\n",
          "output_type": "stream"
        }
      ],
      "execution_count": 87
    },
    {
      "cell_type": "code",
      "source": "'''\nDictionary in python\nDictionary is nothing but a one datatype is indicated by {}\nkey value date (k: v) # k is nothing but key and v is nothing but value\na ={'a': 123, 1:\"abc\"}\na is key and 123 is value for a\nabc is value of 1\nkey should be immutable\nvalue should be mutable (different types)\nkeys will act as index\nno slicing\nkeys are unique\nDictionary methods: \nget()\nupdate()\nvalues()\nkeys()\nitems()\n\n'''\n",
      "metadata": {
        "trusted": true
      },
      "outputs": [
        {
          "execution_count": 88,
          "output_type": "execute_result",
          "data": {
            "text/plain": "'\\nDictionary in python\\nDictionary is nothing but a one datatype is indicated by {}\\nkey value date (k: v) # k is nothing but key and v is nothing but value\\na ={\\'a\\': 123, 1:\"abc\"}\\na is key and 123 is value for a\\nabc is value of 1\\nkey should be immutable\\nvalue should be mutable (different types)\\nkeys will act as index\\nno slicing\\nkeys are unique\\n\\n'"
          },
          "metadata": {}
        }
      ],
      "execution_count": 88
    },
    {
      "cell_type": "code",
      "source": "#dictionary\nd = {}\nprint(type(d))",
      "metadata": {
        "trusted": true
      },
      "outputs": [
        {
          "name": "stdout",
          "text": "<class 'dict'>\n",
          "output_type": "stream"
        }
      ],
      "execution_count": 89
    },
    {
      "cell_type": "code",
      "source": "d = {1:'abc', 22: 'kiran', 'pythonlife':1}\nprint(d[22]) # using keys\n",
      "metadata": {
        "trusted": true
      },
      "outputs": [
        {
          "name": "stdout",
          "text": "kiran\n",
          "output_type": "stream"
        }
      ],
      "execution_count": 91
    },
    {
      "cell_type": "code",
      "source": "d ={1:'abc', 22:'kiran', 'pythonlife':1}\nprint(d.get(1))",
      "metadata": {
        "trusted": true
      },
      "outputs": [
        {
          "name": "stdout",
          "text": "abc\n",
          "output_type": "stream"
        }
      ],
      "execution_count": 92
    },
    {
      "cell_type": "code",
      "source": "print(d.keys())",
      "metadata": {
        "trusted": true
      },
      "outputs": [
        {
          "name": "stdout",
          "text": "dict_keys([1, 22, 'pythonlife'])\n",
          "output_type": "stream"
        }
      ],
      "execution_count": 93
    },
    {
      "cell_type": "code",
      "source": "print(d.values())",
      "metadata": {
        "trusted": true
      },
      "outputs": [
        {
          "name": "stdout",
          "text": "dict_values(['abc', 'kiran', 1])\n",
          "output_type": "stream"
        }
      ],
      "execution_count": 94
    },
    {
      "cell_type": "code",
      "source": "print(d.items())",
      "metadata": {
        "trusted": true
      },
      "outputs": [
        {
          "name": "stdout",
          "text": "dict_items([(1, 'abc'), (22, 'kiran'), ('pythonlife', 1)])\n",
          "output_type": "stream"
        }
      ],
      "execution_count": 95
    },
    {
      "cell_type": "code",
      "source": "d.update({11111:2222})",
      "metadata": {
        "trusted": true
      },
      "outputs": [],
      "execution_count": 96
    },
    {
      "cell_type": "code",
      "source": "print(d)",
      "metadata": {
        "trusted": true
      },
      "outputs": [
        {
          "name": "stdout",
          "text": "{1: 'abc', 22: 'kiran', 'pythonlife': 1, 11111: 2222}\n",
          "output_type": "stream"
        }
      ],
      "execution_count": 97
    },
    {
      "cell_type": "code",
      "source": "for i in {1: 'abc', 22: 'kiran', 'pythonlife': 1, 11111: 2222}:\n    print(i)",
      "metadata": {
        "trusted": true
      },
      "outputs": [
        {
          "name": "stdout",
          "text": "1\n22\npythonlife\n11111\n",
          "output_type": "stream"
        }
      ],
      "execution_count": 98
    },
    {
      "cell_type": "code",
      "source": "for i in {1: 'abc', 22: 'kiran', 'pythonlife': 1, 11111: 2222}:\n    print(i)\n",
      "metadata": {
        "trusted": true
      },
      "outputs": [
        {
          "name": "stdout",
          "text": "1\n22\npythonlife\n11111\n",
          "output_type": "stream"
        }
      ],
      "execution_count": 102
    },
    {
      "cell_type": "code",
      "source": "'''\nSets\nsets is defined by {}\ndo not allow duplicates\nNo Index, un ordered\nDo not allow mutable types as set elements\nSet methods:\n\nadd()\nupdate()\npop()\nremove()\n\nset operations:\n\nunion()\nintersection()\ndifference()\nisubset()\nissuperset()\n'''\n",
      "metadata": {
        "trusted": true
      },
      "outputs": [
        {
          "execution_count": 106,
          "output_type": "execute_result",
          "data": {
            "text/plain": "'\\nSets\\nsets is defined by {}\\ndo not allow duplicates\\nNo Index, un ordered\\nDo not allow mutable types as set elements\\nSet methods:\\n\\nadd()\\nupdate()\\npop()\\nremove()\\n\\nset operations:\\n\\nunion()\\nintersection()\\ndifference()\\nisubset()\\nissuperset()\\n'"
          },
          "metadata": {}
        }
      ],
      "execution_count": 106
    },
    {
      "cell_type": "code",
      "source": "s = {}\nprint(type(s))",
      "metadata": {
        "trusted": true
      },
      "outputs": [
        {
          "name": "stdout",
          "text": "<class 'dict'>\n",
          "output_type": "stream"
        }
      ],
      "execution_count": 107
    },
    {
      "cell_type": "code",
      "source": "R = {2,7, 42, 5, 25, 2, 5, 55, 1, 0,4}\nprint(R) # no duplicates in sets and also it is unordered",
      "metadata": {
        "trusted": true
      },
      "outputs": [
        {
          "name": "stdout",
          "text": "{0, 1, 2, 4, 5, 7, 42, 55, 25}\n",
          "output_type": "stream"
        }
      ],
      "execution_count": 110
    },
    {
      "cell_type": "code",
      "source": "R.update({1,2,3,4,5})\nprint(R) # adding bulk data\nR.pop() # it remove unordered\nR.remove(2) # it removes particular element 42",
      "metadata": {
        "trusted": true
      },
      "outputs": [
        {
          "name": "stdout",
          "text": "{1, 2, 3, 4, 5, 7, 55, 25}\n",
          "output_type": "stream"
        }
      ],
      "execution_count": 121
    },
    {
      "cell_type": "code",
      "source": "set1 = {1,2,3}\nset2 = {4,5,6}\nprint(set1.union(set2)) ",
      "metadata": {
        "trusted": true
      },
      "outputs": [
        {
          "name": "stdout",
          "text": "{1, 2, 3, 4, 5, 6}\n",
          "output_type": "stream"
        }
      ],
      "execution_count": 118
    },
    {
      "cell_type": "code",
      "source": "print(set1.intersection(set2))",
      "metadata": {
        "trusted": true
      },
      "outputs": [
        {
          "name": "stdout",
          "text": "set()\n",
          "output_type": "stream"
        }
      ],
      "execution_count": 120
    },
    {
      "cell_type": "code",
      "source": "print(set1.difference(set2))",
      "metadata": {
        "trusted": true
      },
      "outputs": [
        {
          "name": "stdout",
          "text": "{1, 2, 3}\n",
          "output_type": "stream"
        }
      ],
      "execution_count": 122
    },
    {
      "cell_type": "code",
      "source": "print(set1.issuperset(set2))",
      "metadata": {
        "trusted": true
      },
      "outputs": [
        {
          "name": "stdout",
          "text": "False\n",
          "output_type": "stream"
        }
      ],
      "execution_count": 123
    },
    {
      "cell_type": "code",
      "source": "print(set2.issuperset(set2))",
      "metadata": {
        "trusted": true
      },
      "outputs": [
        {
          "name": "stdout",
          "text": "True\n",
          "output_type": "stream"
        }
      ],
      "execution_count": 124
    },
    {
      "cell_type": "code",
      "source": "for i in {1,2,3,4}:\n    print(i)",
      "metadata": {
        "trusted": true
      },
      "outputs": [
        {
          "name": "stdout",
          "text": "1\n2\n3\n4\n",
          "output_type": "stream"
        }
      ],
      "execution_count": 125
    },
    {
      "cell_type": "code",
      "source": "",
      "metadata": {
        "trusted": true
      },
      "outputs": [],
      "execution_count": null
    }
  ]
}